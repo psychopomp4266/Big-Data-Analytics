{
  "nbformat": 4,
  "nbformat_minor": 0,
  "metadata": {
    "colab": {
      "provenance": [],
      "collapsed_sections": [
        "V1Nj3hczRCMw",
        "COsWfQb9xnft",
        "HurzkFkvRLdW",
        "yr6s9Ds5VDdf",
        "JuHnZ5KvRopa",
        "H6ud1Bf7XPSh",
        "sYGZ1SWpsdim"
      ]
    },
    "kernelspec": {
      "name": "python3",
      "display_name": "Python 3"
    },
    "language_info": {
      "name": "python"
    },
    "accelerator": "TPU"
  },
  "cells": [
    {
      "cell_type": "code",
      "source": [
        "from google.colab import drive\n",
        "drive.mount(\"/content/drive\", force_remount=True)"
      ],
      "metadata": {
        "id": "G6Gihnq-UDGd",
        "colab": {
          "base_uri": "https://localhost:8080/"
        },
        "outputId": "66a2fd14-13e5-4ff3-f4d7-6fa25ecd95b4"
      },
      "execution_count": null,
      "outputs": [
        {
          "output_type": "stream",
          "name": "stdout",
          "text": [
            "Mounted at /content/drive\n"
          ]
        }
      ]
    },
    {
      "cell_type": "markdown",
      "source": [
        "# Path and Support Threshold Setting"
      ],
      "metadata": {
        "id": "V1Nj3hczRCMw"
      }
    },
    {
      "cell_type": "code",
      "source": [
        "path = \"/content/drive/MyDrive/CSOE18_BDA_Assigment_1_107121045/\"\n",
        "min_support = 0.01\n",
        "relative_min_support = 0.01\n",
        "# To set the actual threshold, refer to 1st block of code under the \"Reading Data and generating Candidates & Frequent Itemsets\" section"
      ],
      "metadata": {
        "id": "h4yViCZyRJdS"
      },
      "execution_count": null,
      "outputs": []
    },
    {
      "cell_type": "markdown",
      "source": [
        "# Functions Definitions\n"
      ],
      "metadata": {
        "id": "COsWfQb9xnft"
      }
    },
    {
      "cell_type": "markdown",
      "source": [
        "\n",
        "\n",
        "> File Handling Codes\n",
        "\n"
      ],
      "metadata": {
        "id": "R4GIlpVmOohH"
      }
    },
    {
      "cell_type": "code",
      "source": [
        "# Function to read data from a file and return a list of itemsets\n",
        "def read_data_from_file(file_path):\n",
        "    data = []\n",
        "    with open(file_path, 'r') as file:\n",
        "        for line in file:\n",
        "            # Split the line into categories using ';' as the delimiter\n",
        "            categories = line.strip().split(';')\n",
        "            data.append(categories)\n",
        "    return data\n",
        "\n",
        "# Function to write a list of tuples to a file\n",
        "def write_tuples_to_file(file_path, data_list):\n",
        "    # Calculate the total count\n",
        "    total_count = len(data_list)\n",
        "\n",
        "    with open(file_path, \"w\") as file:\n",
        "        # Write the header with the correct total count\n",
        "        file.write(f\"#Total count {total_count}\\n\")\n",
        "\n",
        "        # Write each tuple's data\n",
        "        for data in data_list:\n",
        "            key, value = data\n",
        "            # Check if the key is a frozenset and convert it to a comma-separated string\n",
        "            if isinstance(key, frozenset):\n",
        "                key_str = ', '.join(sorted(key))\n",
        "            else:\n",
        "                key_str = key\n",
        "            file.write(f\"{key_str}: {value}\\n\")\n",
        "\n",
        "# Function to print data from a file\n",
        "def print_from_file(file_path):\n",
        "    with open(file_path, \"r\") as file:\n",
        "        for line in file:\n",
        "            # Print each line from the file\n",
        "            print(line)\n"
      ],
      "metadata": {
        "id": "seJv7UOMxqkb"
      },
      "execution_count": null,
      "outputs": []
    },
    {
      "cell_type": "markdown",
      "source": [
        "\n",
        "\n",
        "> Merge Sort\n",
        "\n"
      ],
      "metadata": {
        "id": "Bwc2WuXcO0Do"
      }
    },
    {
      "cell_type": "code",
      "source": [
        "# Function to merge-sort a dictionary\n",
        "def merge_sort_dict(d):\n",
        "    # Base case: If the dictionary has 1 or fewer items, return it as is\n",
        "    if len(d) <= 1:\n",
        "        return d\n",
        "\n",
        "    # Find the middle index\n",
        "    middle = len(d) // 2\n",
        "\n",
        "    # Split the dictionary into two halves\n",
        "    left_half = dict(list(d.items())[:middle])\n",
        "    right_half = dict(list(d.items())[middle:])\n",
        "\n",
        "    # Recursively merge-sort the left and right halves\n",
        "    left_half = merge_sort_dict(left_half)\n",
        "    right_half = merge_sort_dict(right_half)\n",
        "\n",
        "    # Initialize an empty dictionary to store the merged result\n",
        "    merged = {}\n",
        "\n",
        "    # Initialize indices for the left and right halves\n",
        "    left_idx, right_idx = 0, 0\n",
        "\n",
        "    # Merge elements while comparing their keys\n",
        "    while left_idx < len(left_half) and right_idx < len(right_half):\n",
        "        left_key, right_key = list(left_half.keys())[left_idx], list(right_half.keys())[right_idx]\n",
        "\n",
        "        # Compare the values associated with the keys\n",
        "        if left_half[left_key] >= right_half[right_key]:\n",
        "            merged[left_key] = left_half[left_key]\n",
        "            left_idx += 1\n",
        "        else:\n",
        "            merged[right_key] = right_half[right_key]\n",
        "            right_idx += 1\n",
        "\n",
        "    # Add any remaining elements from the left and right halves\n",
        "    while left_idx < len(left_half):\n",
        "        left_key = list(left_half.keys())[left_idx]\n",
        "        merged[left_key] = left_half[left_key]\n",
        "        left_idx += 1\n",
        "\n",
        "    while right_idx < len(right_half):\n",
        "        right_key = list(right_half.keys())[right_idx]\n",
        "        merged[right_key] = right_half[right_key]\n",
        "        right_idx += 1\n",
        "\n",
        "    # Return the merged dictionary\n",
        "    return merged\n"
      ],
      "metadata": {
        "id": "bIdPJekHOnng"
      },
      "execution_count": null,
      "outputs": []
    },
    {
      "cell_type": "markdown",
      "source": [
        "\n",
        "\n",
        "> Itemset Generation\n",
        "\n"
      ],
      "metadata": {
        "id": "_AvqBAKBO3HS"
      }
    },
    {
      "cell_type": "code",
      "source": [
        "def count_and_filter_itemsets_1(data, min_threshold):\n",
        "    # Initialize a dictionary to store the candidate itemsets and their counts\n",
        "    candidates = {}\n",
        "\n",
        "    # Iterate through the transactional data\n",
        "    for itemsets in data:\n",
        "        for items in itemsets:\n",
        "            # Generate a frozenset containing a single element (the item)\n",
        "            item_key = frozenset({items})\n",
        "            # Increment the count for the candidate itemset\n",
        "            candidates[item_key] = candidates.get(item_key, 0) + 1\n",
        "\n",
        "    # Create a dictionary containing only frequent itemsets (above min_threshold)\n",
        "    freq_itemsets = {key: value for key, value in candidates.items() if value >= min_threshold}\n",
        "\n",
        "    # Return both the candidates and frequent itemsets as a tuple\n",
        "    return (candidates, freq_itemsets)\n"
      ],
      "metadata": {
        "id": "iyxn8l7FjMLp"
      },
      "execution_count": null,
      "outputs": []
    },
    {
      "cell_type": "code",
      "source": [
        "def generate_itemsets_of_length_n(freq_itemsets, n):\n",
        "    # Initialize an empty dictionary to store itemsets of length 'n'\n",
        "    itemsets_n = {}\n",
        "\n",
        "    if n == 2:\n",
        "        # If 'n' is 2, generate unique combinations of length 2 from freq_itemsets\n",
        "        for itemset1 in freq_itemsets.keys():\n",
        "            for itemset2 in freq_itemsets.keys():\n",
        "                # Ensure itemset1 and itemset2 are distinct\n",
        "                if itemset1 != itemset2:\n",
        "                    # Combine itemset1 and itemset2 and create a frozenset\n",
        "                    pair_key = frozenset(itemset1.union(itemset2))\n",
        "                    # Check if the length of the combined itemset is 'n'\n",
        "                    if len(pair_key) == n:\n",
        "                        # Add the pair_key to the itemsets_n dictionary with a value of 0\n",
        "                        itemsets_n[pair_key] = 0\n",
        "\n",
        "    if n == 3:\n",
        "        # If 'n' is 3, generate unique combinations of length 3 from freq_itemsets\n",
        "        for key1 in freq_itemsets.keys():\n",
        "            for key2 in freq_itemsets.keys():\n",
        "                # Ensure key1 and key2 are distinct\n",
        "                if key1 != key2:\n",
        "                    # Combine key1 and key2 to create a new itemset\n",
        "                    itemset_3 = key1.union(key2)\n",
        "                    # Check if the length of the combined itemset is 'n'\n",
        "                    if len(itemset_3) == 3:\n",
        "                        # Add the itemset_3 to the itemsets_n dictionary with a value of 0\n",
        "                        itemsets_n[itemset_3] = 0\n",
        "\n",
        "    if n == 4:\n",
        "        # If 'n' is 4, generate unique combinations of length 4 from freq_itemsets\n",
        "        for key1 in freq_itemsets.keys():\n",
        "            for key2 in freq_itemsets.keys():\n",
        "                for key3 in freq_itemsets.keys():\n",
        "                    # Ensure key1, key2, and key3 are distinct\n",
        "                    if key1 != key2 or key1 != key3 or key2 != key3:\n",
        "                        # Create a temporary itemset by combining key1 and key2\n",
        "                        tmp = key1.union(key2)\n",
        "                        # Create a new itemset by combining tmp and key3\n",
        "                        itemset_4 = tmp.union(key3)\n",
        "                        # Check if the length of the combined itemset is 'n'\n",
        "                        if len(itemset_4) == 4:\n",
        "                            # Add the itemset_4 to the itemsets_n dictionary with a value of 0\n",
        "                            itemsets_n[itemset_4] = 0\n",
        "\n",
        "    return itemsets_n\n"
      ],
      "metadata": {
        "id": "jAu66aurVsG2"
      },
      "execution_count": null,
      "outputs": []
    },
    {
      "cell_type": "markdown",
      "source": [
        "\n",
        "\n",
        "> Candidate Itemsets Generation\n",
        "\n"
      ],
      "metadata": {
        "id": "bwel36mxrhQT"
      }
    },
    {
      "cell_type": "code",
      "source": [
        "def counting_from_data(data, itemsets_dict):\n",
        "    # Initialize an empty dictionary to store candidate sets\n",
        "    candidate_sets = {}\n",
        "\n",
        "    # Iterate through each itemset in the data\n",
        "    for itemset in data:\n",
        "        # Convert the itemset into a set for efficient membership checking\n",
        "        itemset_items = set(itemset)\n",
        "\n",
        "        # Iterate through the itemsets in itemsets_dict\n",
        "        for candidates in itemsets_dict.keys():\n",
        "            # Check if the candidates are a subset of the current itemset\n",
        "            if candidates.issubset(itemset_items):\n",
        "                # Increment the count of the candidate set in candidate_sets\n",
        "                candidate_sets[candidates] = candidate_sets.get(candidates, 0) + 1\n",
        "\n",
        "    return candidate_sets\n"
      ],
      "metadata": {
        "id": "fhGNAxPRrglZ"
      },
      "execution_count": null,
      "outputs": []
    },
    {
      "cell_type": "markdown",
      "source": [
        "\n",
        "\n",
        "> Closed Itemset Generation\n",
        "\n"
      ],
      "metadata": {
        "id": "gNm4JcB0ouEE"
      }
    },
    {
      "cell_type": "code",
      "source": [
        "def mine_closed_frequent_itemsets(all_, relative_min_support):\n",
        "    # Step 1: Filter frequent itemsets by relative minimum support\n",
        "    filtered_itemsets = {itemset: support for itemset, support in all_.items() if support >= relative_min_support}\n",
        "\n",
        "    closed_frequent_itemsets = {}\n",
        "\n",
        "    # Step 2: Check each frequent itemset for closure\n",
        "    for itemset1, support1 in filtered_itemsets.items():\n",
        "        is_closed = True\n",
        "        for itemset2, support2 in filtered_itemsets.items():\n",
        "            # Check if itemset1 is a proper subset of itemset2 and has the same support\n",
        "            if itemset1 != itemset2 and itemset1.issubset(itemset2) and support1 == support2:\n",
        "                is_closed = False\n",
        "                break\n",
        "        if is_closed:\n",
        "            closed_frequent_itemsets[itemset1] = support1\n",
        "\n",
        "    # Step 3: Sort closed frequent itemsets by support count in descending order\n",
        "    sorted_closed_frequent_itemsets = merge_sort_dict(closed_frequent_itemsets)\n",
        "\n",
        "    return sorted_closed_frequent_itemsets\n"
      ],
      "metadata": {
        "id": "AlfK_YlEotbQ"
      },
      "execution_count": null,
      "outputs": []
    },
    {
      "cell_type": "markdown",
      "source": [
        "# Reading Data and Generating Candidates & Frequent Itemsets"
      ],
      "metadata": {
        "id": "HurzkFkvRLdW"
      }
    },
    {
      "cell_type": "markdown",
      "source": [
        "\n",
        "\n",
        "> Itemsets of Length 1\n",
        "\n"
      ],
      "metadata": {
        "id": "TSg2c0Z4RSto"
      }
    },
    {
      "cell_type": "code",
      "source": [
        "# Read data from a file and store it in the 'data' variable\n",
        "data = read_data_from_file(path + \"categories.txt\")\n",
        "\n",
        "# Calculate the minimum support threshold based on the specified 'min_support' parameter\n",
        "min_threshold = min_support * len(data)     #Leads to considering min_threshold value =771.85 i.e. 772\n",
        "#min_threshold = 771\n",
        "# Count and filter itemsets of length 1 from the data\n",
        "(candidate_set_1, freq_itemsets_1) = count_and_filter_itemsets_1(data, min_threshold)\n",
        "\n",
        "# Merge-sort the frequent itemsets of length 1\n",
        "sorted_data = merge_sort_dict(freq_itemsets_1)\n",
        "\n",
        "# Print the sorted frequent itemsets and their length\n",
        "print(\"Frequent Itemsets of Length 1:\\n\",sorted_data, \"\\n\\nLength of frequent itemset of length 1:\\t\", len(sorted_data))\n"
      ],
      "metadata": {
        "colab": {
          "base_uri": "https://localhost:8080/"
        },
        "id": "eJj27VgMxv0I",
        "outputId": "ed6bff1c-7b4e-4f4f-ff71-b9757c2a6f2d"
      },
      "execution_count": null,
      "outputs": [
        {
          "output_type": "stream",
          "name": "stdout",
          "text": [
            "Frequent Itemsets of Length 1:\n",
            " {frozenset({'Restaurants'}): 25071, frozenset({'Shopping'}): 11233, frozenset({'Food'}): 9250, frozenset({'Beauty & Spas'}): 6583, frozenset({'Health & Medical'}): 5121, frozenset({'Nightlife'}): 5088, frozenset({'Home Services'}): 4785, frozenset({'Bars'}): 4328, frozenset({'Automotive'}): 4208, frozenset({'Local Services'}): 3468, frozenset({'Active Life'}): 3103, frozenset({'Fashion'}): 3078, frozenset({'Event Planning & Services'}): 2975, frozenset({'Fast Food'}): 2851, frozenset({'Pizza'}): 2657, frozenset({'Mexican'}): 2515, frozenset({'Hotels & Travel'}): 2495, frozenset({'American (Traditional)'}): 2416, frozenset({'Sandwiches'}): 2364, frozenset({'Arts & Entertainment'}): 2271, frozenset({'Coffee & Tea'}): 2199, frozenset({'Hair Salons'}): 2091, frozenset({'Italian'}): 1848, frozenset({'Burgers'}): 1774, frozenset({'Auto Repair'}): 1716, frozenset({'Doctors'}): 1694, frozenset({'Nail Salons'}): 1667, frozenset({'Chinese'}): 1629, frozenset({'American (New)'}): 1593, frozenset({'Home & Garden'}): 1586, frozenset({'Pets'}): 1497, frozenset({'Fitness & Instruction'}): 1442, frozenset({'Hotels'}): 1431, frozenset({'Real Estate'}): 1424, frozenset({'Grocery'}): 1424, frozenset({'Breakfast & Brunch'}): 1369, frozenset({'Dentists'}): 1195, frozenset({'Specialty Food'}): 1150, frozenset({\"Women's Clothing\"}): 1138, frozenset({'Bakeries'}): 1115, frozenset({'Professional Services'}): 1025, frozenset({'Ice Cream & Frozen Yogurt'}): 1018, frozenset({'Cafes'}): 1002, frozenset({'Financial Services'}): 875, frozenset({'Pubs'}): 874, frozenset({'Pet Services'}): 870, frozenset({'Japanese'}): 848, frozenset({'General Dentistry'}): 823, frozenset({'Sports Bars'}): 818, frozenset({'Sushi Bars'}): 798} \n",
            "\n",
            "Length of frequent itemset of length 1:\t 50\n"
          ]
        }
      ]
    },
    {
      "cell_type": "markdown",
      "source": [
        "\n",
        "\n",
        "> Itemsets of Length 2\n",
        "\n"
      ],
      "metadata": {
        "id": "PyQMH4-SRWSz"
      }
    },
    {
      "cell_type": "code",
      "source": [
        "# Generate itemsets of length 2 from the frequent itemsets of length 1\n",
        "itemsets_2 = generate_itemsets_of_length_n(freq_itemsets_1, 2)\n",
        "\n",
        "# Print the length of itemsets of length 2\n",
        "print(\"Length of itemsets of length 2:\\t\", len(itemsets_2), \"\\n\\n\")\n",
        "\n",
        "# Generate candidate itemsets of length 2 by checking support in the data\n",
        "candidate_set_2 = counting_from_data(data, itemsets_2)\n",
        "\n",
        "# Print the length of candidate itemsets of length 2\n",
        "print(\"Length of candidate itemsets of length 2:\\t\", len(candidate_set_2), \"\\n\\n\")\n",
        "\n",
        "# Filter candidate itemsets of length 2 using minimum threshold support\n",
        "freq_itemsets_2 = {key: value for key, value in candidate_set_2.items() if value >= min_threshold}\n",
        "\n",
        "# Merge-sort the frequent itemsets of length 2\n",
        "sorted_data_2 = merge_sort_dict(freq_itemsets_2)\n",
        "\n",
        "# Print the sorted frequent itemsets of length 2 and their length\n",
        "print(\"Frequent Itemsets of Length 2:\\n\",sorted_data_2, \"\\n\\nLength of frequent itemset of length 2:\\t\", len(sorted_data_2))\n"
      ],
      "metadata": {
        "colab": {
          "base_uri": "https://localhost:8080/"
        },
        "id": "vsLYncsFyBSN",
        "outputId": "bc163889-dd87-4056-ca51-625cd83c484b"
      },
      "execution_count": null,
      "outputs": [
        {
          "output_type": "stream",
          "name": "stdout",
          "text": [
            "Length of itemsets of length 2:\t 1225 \n",
            "\n",
            "\n",
            "Length of candidate itemsets of length 2:\t 598 \n",
            "\n",
            "\n",
            "Frequent Itemsets of Length 2:\n",
            " {frozenset({'Nightlife', 'Bars'}): 4328, frozenset({'Fashion', 'Shopping'}): 3078, frozenset({'Restaurants', 'Fast Food'}): 2851, frozenset({'Restaurants', 'Pizza'}): 2657, frozenset({'Restaurants', 'Nightlife'}): 2533, frozenset({'Restaurants', 'Mexican'}): 2515, frozenset({'Restaurants', 'Bars'}): 2423, frozenset({'Restaurants', 'American (Traditional)'}): 2416, frozenset({'Restaurants', 'Sandwiches'}): 2364, frozenset({'Food', 'Coffee & Tea'}): 2199, frozenset({'Food', 'Restaurants'}): 2101, frozenset({'Beauty & Spas', 'Hair Salons'}): 2091, frozenset({'Restaurants', 'Italian'}): 1848, frozenset({'Restaurants', 'Burgers'}): 1774, frozenset({'Automotive', 'Auto Repair'}): 1716, frozenset({'Health & Medical', 'Doctors'}): 1694, frozenset({'Nail Salons', 'Beauty & Spas'}): 1667, frozenset({'Restaurants', 'Chinese'}): 1629, frozenset({'American (New)', 'Restaurants'}): 1593, frozenset({'Shopping', 'Home & Garden'}): 1586, frozenset({'Event Planning & Services', 'Hotels & Travel'}): 1471, frozenset({'Active Life', 'Fitness & Instruction'}): 1442, frozenset({'Event Planning & Services', 'Hotels'}): 1431, frozenset({'Hotels', 'Hotels & Travel'}): 1431, frozenset({'Home Services', 'Real Estate'}): 1424, frozenset({'Food', 'Grocery'}): 1424, frozenset({'Breakfast & Brunch', 'Restaurants'}): 1369, frozenset({'Dentists', 'Health & Medical'}): 1195, frozenset({'Food', 'Specialty Food'}): 1150, frozenset({'Shopping', \"Women's Clothing\"}): 1138, frozenset({'Fashion', \"Women's Clothing\"}): 1138, frozenset({'Food', 'Bakeries'}): 1115, frozenset({'Food', 'Ice Cream & Frozen Yogurt'}): 1018, frozenset({'Restaurants', 'Cafes'}): 1002, frozenset({'Pubs', 'Bars'}): 874, frozenset({'Nightlife', 'Pubs'}): 874, frozenset({'Pets', 'Pet Services'}): 870, frozenset({'Restaurants', 'Japanese'}): 848, frozenset({'Health & Medical', 'General Dentistry'}): 823, frozenset({'Dentists', 'General Dentistry'}): 823, frozenset({'Sports Bars', 'Bars'}): 818, frozenset({'Sports Bars', 'Nightlife'}): 818, frozenset({'Restaurants', 'Sushi Bars'}): 798, frozenset({'Burgers', 'Fast Food'}): 774} \n",
            "\n",
            "Length of frequent itemset of length 2:\t 44\n"
          ]
        }
      ]
    },
    {
      "cell_type": "markdown",
      "source": [
        "\n",
        "\n",
        "> Itemsets of Length 3\n",
        "\n"
      ],
      "metadata": {
        "id": "PTKunoEtRZ2J"
      }
    },
    {
      "cell_type": "code",
      "source": [
        "# Generate itemsets of length 3 from the frequent itemsets of length 2\n",
        "itemsets_3 = generate_itemsets_of_length_n(freq_itemsets_2, 3)\n",
        "\n",
        "# Print the length of itemsets of length 3\n",
        "print(\"Length of itemsets of length 3:\\t\", len(itemsets_3), \"\\n\\n\")\n",
        "\n",
        "# Generate candidate itemsets of length 3 by checking support in the data\n",
        "candidate_set_3 = counting_from_data(data, itemsets_3)\n",
        "\n",
        "# Print the length of candidate itemsets of length 3\n",
        "print(\"Length of candidate itemsets of length 3:\\t\", len(candidate_set_3), \"\\n\\n\")\n",
        "\n",
        "# Filter candidate itemsets of length 3 using minimum threshold support\n",
        "freq_itemsets_3 = {key: value for key, value in candidate_set_3.items() if value >= min_threshold}\n",
        "\n",
        "# Merge-sort the frequent itemsets of length 3\n",
        "sorted_data_3 = merge_sort_dict(freq_itemsets_3)\n",
        "\n",
        "# Print the sorted frequent itemsets of length 3 and their length\n",
        "print(\"Frequent Itemsets of Length 3:\\n\",sorted_data_3, \"\\n\\nLength of frequent itemset of length 3:\\t\", len(sorted_data_3))\n"
      ],
      "metadata": {
        "colab": {
          "base_uri": "https://localhost:8080/"
        },
        "id": "R6jSu9WL9wYY",
        "outputId": "cc11add3-369e-441f-e442-57f8dbd6963b"
      },
      "execution_count": null,
      "outputs": [
        {
          "output_type": "stream",
          "name": "stdout",
          "text": [
            "Length of itemsets of length 3:\t 151 \n",
            "\n",
            "\n",
            "Length of candidate itemsets of length 3:\t 141 \n",
            "\n",
            "\n",
            "Frequent Itemsets of Length 3:\n",
            " {frozenset({'Restaurants', 'Nightlife', 'Bars'}): 2423, frozenset({'Hotels', 'Event Planning & Services', 'Hotels & Travel'}): 1431, frozenset({'Fashion', 'Shopping', \"Women's Clothing\"}): 1138, frozenset({'Nightlife', 'Pubs', 'Bars'}): 874, frozenset({'Dentists', 'Health & Medical', 'General Dentistry'}): 823, frozenset({'Sports Bars', 'Nightlife', 'Bars'}): 818, frozenset({'Restaurants', 'Burgers', 'Fast Food'}): 774} \n",
            "\n",
            "Length of frequent itemset of length 3:\t 7\n"
          ]
        }
      ]
    },
    {
      "cell_type": "markdown",
      "source": [
        "\n",
        "\n",
        "> Itemsets of length 4\n",
        "\n"
      ],
      "metadata": {
        "id": "Dihxp4nfReM5"
      }
    },
    {
      "cell_type": "code",
      "source": [
        "# Generate itemsets of length 4 from the frequent itemsets of length 3\n",
        "itemsets_4 = generate_itemsets_of_length_n(freq_itemsets_3, 4)\n",
        "\n",
        "# Print the length of itemsets of length 4\n",
        "print(\"Length of itemsets of length 4:\\t\", len(itemsets_4), \"\\n\\n\")\n",
        "\n",
        "# Generate candidate itemsets of length 4 by checking support in the data\n",
        "candidate_set_4 = counting_from_data(data, itemsets_4)\n",
        "\n",
        "# Print the candidate set of length 4\n",
        "print(\"The candidate set of length 4:\\n\", candidate_set_4, \"\\n\\n\")\n",
        "\n",
        "# Print the length of candidate itemsets of length 4\n",
        "print(\"Length of candidate itemsets of length 4:\\t\", len(candidate_set_4), \"\\n\\n\")\n",
        "\n",
        "# Filter candidate itemsets of length 4 using minimum threshold support\n",
        "freq_itemsets_4 = {key: value for key, value in candidate_set_4.items() if value >= min_threshold}\n",
        "\n",
        "# Merge-sort the frequent itemsets of length 4\n",
        "sorted_data_4 = merge_sort_dict(freq_itemsets_4)\n",
        "\n",
        "# Print the sorted frequent itemsets of length 4 and their length\n",
        "print(\"Frequent Itemsets of Length 4:\\n\",sorted_data_4, \"\\n\\nLength of frequent itemset of length 4:\\t\", len(sorted_data_4))\n"
      ],
      "metadata": {
        "id": "vKkCbl1fGNab",
        "colab": {
          "base_uri": "https://localhost:8080/"
        },
        "outputId": "8bfb8f93-3387-4eea-e8c5-7b6fdd46a8c4"
      },
      "execution_count": null,
      "outputs": [
        {
          "output_type": "stream",
          "name": "stdout",
          "text": [
            "Length of itemsets of length 4:\t 3 \n",
            "\n",
            "\n",
            "The candidate set of length 4:\n",
            " {frozenset({'Restaurants', 'Sports Bars', 'Nightlife', 'Bars'}): 596, frozenset({'Restaurants', 'Nightlife', 'Pubs', 'Bars'}): 431, frozenset({'Sports Bars', 'Nightlife', 'Pubs', 'Bars'}): 90} \n",
            "\n",
            "\n",
            "Length of candidate itemsets of length 4:\t 3 \n",
            "\n",
            "\n",
            "Frequent Itemsets of Length 4:\n",
            " {} \n",
            "\n",
            "Length of frequent itemset of length 4:\t 0\n"
          ]
        }
      ]
    },
    {
      "cell_type": "markdown",
      "source": [
        "As there is no frequent itemset of length 4, we cannot generate candidate itemsets of length 5 which is supported by the **Anti-monotone Property of Support.**"
      ],
      "metadata": {
        "id": "OtQrNAP9iT53"
      }
    },
    {
      "cell_type": "markdown",
      "source": [
        "# Closed Frequent Itemsets\n"
      ],
      "metadata": {
        "id": "yr6s9Ds5VDdf"
      }
    },
    {
      "cell_type": "code",
      "source": [
        "# Create a list of patterns for different lengths of frequent itemsets\n",
        "patterns_all_data = [sorted_data, sorted_data_2, sorted_data_3, sorted_data_4]\n",
        "\n",
        "# Combine all frequent itemsets from different lengths into a single dictionary\n",
        "all_frequent_itemsets = {key: value for data in patterns_all_data for key, value in data.items()}\n",
        "\n",
        "# Calculate and print the total number of frequent itemsets in the combined dictionary\n",
        "print(\"Total number of frequent itemsets:\", len(all_frequent_itemsets))\n",
        "\n",
        "# Mine closed frequent itemsets from the combined dictionary with relative minimum support\n",
        "closed_frequent_itemsets = mine_closed_frequent_itemsets(all_frequent_itemsets, relative_min_support)\n",
        "\n",
        "# Calculate and print the total number of closed frequent itemsets\n",
        "print(\"\\n\\nAll Closed Frequent Itemsets :\\n\",closed_frequent_itemsets,\"\\n\\nTotal number of closed frequent itemsets:\", len(closed_frequent_itemsets))\n"
      ],
      "metadata": {
        "colab": {
          "base_uri": "https://localhost:8080/"
        },
        "id": "9sd_3naDkJ__",
        "outputId": "3f2a4b7b-0358-4ac8-ad06-77b3aa183d09"
      },
      "execution_count": null,
      "outputs": [
        {
          "output_type": "stream",
          "name": "stdout",
          "text": [
            "Total number of frequent itemsets: 101\n",
            "\n",
            "\n",
            "All Closed Frequent Itemsets :\n",
            " {frozenset({'Restaurants'}): 25071, frozenset({'Shopping'}): 11233, frozenset({'Food'}): 9250, frozenset({'Beauty & Spas'}): 6583, frozenset({'Health & Medical'}): 5121, frozenset({'Nightlife'}): 5088, frozenset({'Home Services'}): 4785, frozenset({'Nightlife', 'Bars'}): 4328, frozenset({'Automotive'}): 4208, frozenset({'Local Services'}): 3468, frozenset({'Active Life'}): 3103, frozenset({'Fashion', 'Shopping'}): 3078, frozenset({'Event Planning & Services'}): 2975, frozenset({'Restaurants', 'Fast Food'}): 2851, frozenset({'Restaurants', 'Pizza'}): 2657, frozenset({'Restaurants', 'Nightlife'}): 2533, frozenset({'Restaurants', 'Mexican'}): 2515, frozenset({'Hotels & Travel'}): 2495, frozenset({'Restaurants', 'Nightlife', 'Bars'}): 2423, frozenset({'Restaurants', 'American (Traditional)'}): 2416, frozenset({'Restaurants', 'Sandwiches'}): 2364, frozenset({'Arts & Entertainment'}): 2271, frozenset({'Food', 'Coffee & Tea'}): 2199, frozenset({'Food', 'Restaurants'}): 2101, frozenset({'Beauty & Spas', 'Hair Salons'}): 2091, frozenset({'Restaurants', 'Italian'}): 1848, frozenset({'Restaurants', 'Burgers'}): 1774, frozenset({'Automotive', 'Auto Repair'}): 1716, frozenset({'Health & Medical', 'Doctors'}): 1694, frozenset({'Nail Salons', 'Beauty & Spas'}): 1667, frozenset({'Restaurants', 'Chinese'}): 1629, frozenset({'American (New)', 'Restaurants'}): 1593, frozenset({'Shopping', 'Home & Garden'}): 1586, frozenset({'Pets'}): 1497, frozenset({'Event Planning & Services', 'Hotels & Travel'}): 1471, frozenset({'Active Life', 'Fitness & Instruction'}): 1442, frozenset({'Hotels', 'Event Planning & Services', 'Hotels & Travel'}): 1431, frozenset({'Home Services', 'Real Estate'}): 1424, frozenset({'Food', 'Grocery'}): 1424, frozenset({'Breakfast & Brunch', 'Restaurants'}): 1369, frozenset({'Dentists', 'Health & Medical'}): 1195, frozenset({'Food', 'Specialty Food'}): 1150, frozenset({'Fashion', 'Shopping', \"Women's Clothing\"}): 1138, frozenset({'Food', 'Bakeries'}): 1115, frozenset({'Professional Services'}): 1025, frozenset({'Food', 'Ice Cream & Frozen Yogurt'}): 1018, frozenset({'Restaurants', 'Cafes'}): 1002, frozenset({'Financial Services'}): 875, frozenset({'Nightlife', 'Pubs', 'Bars'}): 874, frozenset({'Pets', 'Pet Services'}): 870, frozenset({'Restaurants', 'Japanese'}): 848, frozenset({'Dentists', 'Health & Medical', 'General Dentistry'}): 823, frozenset({'Sports Bars', 'Nightlife', 'Bars'}): 818, frozenset({'Restaurants', 'Sushi Bars'}): 798, frozenset({'Restaurants', 'Burgers', 'Fast Food'}): 774} \n",
            "\n",
            "Total number of closed frequent itemsets: 55\n"
          ]
        }
      ]
    },
    {
      "cell_type": "markdown",
      "source": [
        "# Writing into Files"
      ],
      "metadata": {
        "id": "JuHnZ5KvRopa"
      }
    },
    {
      "cell_type": "code",
      "source": [
        "#Write sorted frequent itemsets of length 1 into a file\n",
        "write_tuples_to_file(path + \"patterns_1.txt\", sorted_data.items())\n",
        "\n",
        "# Write all sorted frequent itemsets for the given data into a file\n",
        "write_tuples_to_file(path + \"patterns_all.txt\", [(key, value) for data in patterns_all_data for key, value in data.items()])\n",
        "\n",
        "#Write all sorted closed frequent itemsets for given all frequent itemsets into a file\n",
        "write_tuples_to_file(path + \"patterns_close.txt\", closed_frequent_itemsets.items())"
      ],
      "metadata": {
        "id": "J-PZOEN9yKKp"
      },
      "execution_count": null,
      "outputs": []
    },
    {
      "cell_type": "markdown",
      "source": [
        "\n",
        "\n",
        "> Cross-verifictation\n",
        "\n"
      ],
      "metadata": {
        "id": "QpyvXvmMRwHA"
      }
    },
    {
      "cell_type": "code",
      "source": [
        "# Print the contents of \"patterns_1.txt\" file\n",
        "print_from_file(path + \"patterns_1.txt\")\n",
        "print(\"\\n\\n\\n\\n\")  # Add extra newlines for separation\n",
        "\n",
        "# Print the contents of \"patterns_all.txt\" file\n",
        "print_from_file(path + \"patterns_all.txt\")\n",
        "print(\"\\n\\n\\n\\n\")  # Add extra newlines for separation\n",
        "\n",
        "# Print the contents of \"patterns_close.txt\" file\n",
        "print_from_file(path + \"patterns_close.txt\")\n"
      ],
      "metadata": {
        "id": "4AEnuWWSRvoP",
        "colab": {
          "base_uri": "https://localhost:8080/"
        },
        "outputId": "7ed5f491-581c-4e24-fa3f-4960f084dca0"
      },
      "execution_count": null,
      "outputs": [
        {
          "output_type": "stream",
          "name": "stdout",
          "text": [
            "#Total count 50\n",
            "\n",
            "Restaurants: 25071\n",
            "\n",
            "Shopping: 11233\n",
            "\n",
            "Food: 9250\n",
            "\n",
            "Beauty & Spas: 6583\n",
            "\n",
            "Health & Medical: 5121\n",
            "\n",
            "Nightlife: 5088\n",
            "\n",
            "Home Services: 4785\n",
            "\n",
            "Bars: 4328\n",
            "\n",
            "Automotive: 4208\n",
            "\n",
            "Local Services: 3468\n",
            "\n",
            "Active Life: 3103\n",
            "\n",
            "Fashion: 3078\n",
            "\n",
            "Event Planning & Services: 2975\n",
            "\n",
            "Fast Food: 2851\n",
            "\n",
            "Pizza: 2657\n",
            "\n",
            "Mexican: 2515\n",
            "\n",
            "Hotels & Travel: 2495\n",
            "\n",
            "American (Traditional): 2416\n",
            "\n",
            "Sandwiches: 2364\n",
            "\n",
            "Arts & Entertainment: 2271\n",
            "\n",
            "Coffee & Tea: 2199\n",
            "\n",
            "Hair Salons: 2091\n",
            "\n",
            "Italian: 1848\n",
            "\n",
            "Burgers: 1774\n",
            "\n",
            "Auto Repair: 1716\n",
            "\n",
            "Doctors: 1694\n",
            "\n",
            "Nail Salons: 1667\n",
            "\n",
            "Chinese: 1629\n",
            "\n",
            "American (New): 1593\n",
            "\n",
            "Home & Garden: 1586\n",
            "\n",
            "Pets: 1497\n",
            "\n",
            "Fitness & Instruction: 1442\n",
            "\n",
            "Hotels: 1431\n",
            "\n",
            "Real Estate: 1424\n",
            "\n",
            "Grocery: 1424\n",
            "\n",
            "Breakfast & Brunch: 1369\n",
            "\n",
            "Dentists: 1195\n",
            "\n",
            "Specialty Food: 1150\n",
            "\n",
            "Women's Clothing: 1138\n",
            "\n",
            "Bakeries: 1115\n",
            "\n",
            "Professional Services: 1025\n",
            "\n",
            "Ice Cream & Frozen Yogurt: 1018\n",
            "\n",
            "Cafes: 1002\n",
            "\n",
            "Financial Services: 875\n",
            "\n",
            "Pubs: 874\n",
            "\n",
            "Pet Services: 870\n",
            "\n",
            "Japanese: 848\n",
            "\n",
            "General Dentistry: 823\n",
            "\n",
            "Sports Bars: 818\n",
            "\n",
            "Sushi Bars: 798\n",
            "\n",
            "\n",
            "\n",
            "\n",
            "\n",
            "\n",
            "#Total count 101\n",
            "\n",
            "Restaurants: 25071\n",
            "\n",
            "Shopping: 11233\n",
            "\n",
            "Food: 9250\n",
            "\n",
            "Beauty & Spas: 6583\n",
            "\n",
            "Health & Medical: 5121\n",
            "\n",
            "Nightlife: 5088\n",
            "\n",
            "Home Services: 4785\n",
            "\n",
            "Bars: 4328\n",
            "\n",
            "Automotive: 4208\n",
            "\n",
            "Local Services: 3468\n",
            "\n",
            "Active Life: 3103\n",
            "\n",
            "Fashion: 3078\n",
            "\n",
            "Event Planning & Services: 2975\n",
            "\n",
            "Fast Food: 2851\n",
            "\n",
            "Pizza: 2657\n",
            "\n",
            "Mexican: 2515\n",
            "\n",
            "Hotels & Travel: 2495\n",
            "\n",
            "American (Traditional): 2416\n",
            "\n",
            "Sandwiches: 2364\n",
            "\n",
            "Arts & Entertainment: 2271\n",
            "\n",
            "Coffee & Tea: 2199\n",
            "\n",
            "Hair Salons: 2091\n",
            "\n",
            "Italian: 1848\n",
            "\n",
            "Burgers: 1774\n",
            "\n",
            "Auto Repair: 1716\n",
            "\n",
            "Doctors: 1694\n",
            "\n",
            "Nail Salons: 1667\n",
            "\n",
            "Chinese: 1629\n",
            "\n",
            "American (New): 1593\n",
            "\n",
            "Home & Garden: 1586\n",
            "\n",
            "Pets: 1497\n",
            "\n",
            "Fitness & Instruction: 1442\n",
            "\n",
            "Hotels: 1431\n",
            "\n",
            "Real Estate: 1424\n",
            "\n",
            "Grocery: 1424\n",
            "\n",
            "Breakfast & Brunch: 1369\n",
            "\n",
            "Dentists: 1195\n",
            "\n",
            "Specialty Food: 1150\n",
            "\n",
            "Women's Clothing: 1138\n",
            "\n",
            "Bakeries: 1115\n",
            "\n",
            "Professional Services: 1025\n",
            "\n",
            "Ice Cream & Frozen Yogurt: 1018\n",
            "\n",
            "Cafes: 1002\n",
            "\n",
            "Financial Services: 875\n",
            "\n",
            "Pubs: 874\n",
            "\n",
            "Pet Services: 870\n",
            "\n",
            "Japanese: 848\n",
            "\n",
            "General Dentistry: 823\n",
            "\n",
            "Sports Bars: 818\n",
            "\n",
            "Sushi Bars: 798\n",
            "\n",
            "Bars, Nightlife: 4328\n",
            "\n",
            "Fashion, Shopping: 3078\n",
            "\n",
            "Fast Food, Restaurants: 2851\n",
            "\n",
            "Pizza, Restaurants: 2657\n",
            "\n",
            "Nightlife, Restaurants: 2533\n",
            "\n",
            "Mexican, Restaurants: 2515\n",
            "\n",
            "Bars, Restaurants: 2423\n",
            "\n",
            "American (Traditional), Restaurants: 2416\n",
            "\n",
            "Restaurants, Sandwiches: 2364\n",
            "\n",
            "Coffee & Tea, Food: 2199\n",
            "\n",
            "Food, Restaurants: 2101\n",
            "\n",
            "Beauty & Spas, Hair Salons: 2091\n",
            "\n",
            "Italian, Restaurants: 1848\n",
            "\n",
            "Burgers, Restaurants: 1774\n",
            "\n",
            "Auto Repair, Automotive: 1716\n",
            "\n",
            "Doctors, Health & Medical: 1694\n",
            "\n",
            "Beauty & Spas, Nail Salons: 1667\n",
            "\n",
            "Chinese, Restaurants: 1629\n",
            "\n",
            "American (New), Restaurants: 1593\n",
            "\n",
            "Home & Garden, Shopping: 1586\n",
            "\n",
            "Event Planning & Services, Hotels & Travel: 1471\n",
            "\n",
            "Active Life, Fitness & Instruction: 1442\n",
            "\n",
            "Event Planning & Services, Hotels: 1431\n",
            "\n",
            "Hotels, Hotels & Travel: 1431\n",
            "\n",
            "Home Services, Real Estate: 1424\n",
            "\n",
            "Food, Grocery: 1424\n",
            "\n",
            "Breakfast & Brunch, Restaurants: 1369\n",
            "\n",
            "Dentists, Health & Medical: 1195\n",
            "\n",
            "Food, Specialty Food: 1150\n",
            "\n",
            "Shopping, Women's Clothing: 1138\n",
            "\n",
            "Fashion, Women's Clothing: 1138\n",
            "\n",
            "Bakeries, Food: 1115\n",
            "\n",
            "Food, Ice Cream & Frozen Yogurt: 1018\n",
            "\n",
            "Cafes, Restaurants: 1002\n",
            "\n",
            "Bars, Pubs: 874\n",
            "\n",
            "Nightlife, Pubs: 874\n",
            "\n",
            "Pet Services, Pets: 870\n",
            "\n",
            "Japanese, Restaurants: 848\n",
            "\n",
            "General Dentistry, Health & Medical: 823\n",
            "\n",
            "Dentists, General Dentistry: 823\n",
            "\n",
            "Bars, Sports Bars: 818\n",
            "\n",
            "Nightlife, Sports Bars: 818\n",
            "\n",
            "Restaurants, Sushi Bars: 798\n",
            "\n",
            "Burgers, Fast Food: 774\n",
            "\n",
            "Bars, Nightlife, Restaurants: 2423\n",
            "\n",
            "Event Planning & Services, Hotels, Hotels & Travel: 1431\n",
            "\n",
            "Fashion, Shopping, Women's Clothing: 1138\n",
            "\n",
            "Bars, Nightlife, Pubs: 874\n",
            "\n",
            "Dentists, General Dentistry, Health & Medical: 823\n",
            "\n",
            "Bars, Nightlife, Sports Bars: 818\n",
            "\n",
            "Burgers, Fast Food, Restaurants: 774\n",
            "\n",
            "\n",
            "\n",
            "\n",
            "\n",
            "\n",
            "#Total count 55\n",
            "\n",
            "Restaurants: 25071\n",
            "\n",
            "Shopping: 11233\n",
            "\n",
            "Food: 9250\n",
            "\n",
            "Beauty & Spas: 6583\n",
            "\n",
            "Health & Medical: 5121\n",
            "\n",
            "Nightlife: 5088\n",
            "\n",
            "Home Services: 4785\n",
            "\n",
            "Bars, Nightlife: 4328\n",
            "\n",
            "Automotive: 4208\n",
            "\n",
            "Local Services: 3468\n",
            "\n",
            "Active Life: 3103\n",
            "\n",
            "Fashion, Shopping: 3078\n",
            "\n",
            "Event Planning & Services: 2975\n",
            "\n",
            "Fast Food, Restaurants: 2851\n",
            "\n",
            "Pizza, Restaurants: 2657\n",
            "\n",
            "Nightlife, Restaurants: 2533\n",
            "\n",
            "Mexican, Restaurants: 2515\n",
            "\n",
            "Hotels & Travel: 2495\n",
            "\n",
            "Bars, Nightlife, Restaurants: 2423\n",
            "\n",
            "American (Traditional), Restaurants: 2416\n",
            "\n",
            "Restaurants, Sandwiches: 2364\n",
            "\n",
            "Arts & Entertainment: 2271\n",
            "\n",
            "Coffee & Tea, Food: 2199\n",
            "\n",
            "Food, Restaurants: 2101\n",
            "\n",
            "Beauty & Spas, Hair Salons: 2091\n",
            "\n",
            "Italian, Restaurants: 1848\n",
            "\n",
            "Burgers, Restaurants: 1774\n",
            "\n",
            "Auto Repair, Automotive: 1716\n",
            "\n",
            "Doctors, Health & Medical: 1694\n",
            "\n",
            "Beauty & Spas, Nail Salons: 1667\n",
            "\n",
            "Chinese, Restaurants: 1629\n",
            "\n",
            "American (New), Restaurants: 1593\n",
            "\n",
            "Home & Garden, Shopping: 1586\n",
            "\n",
            "Pets: 1497\n",
            "\n",
            "Event Planning & Services, Hotels & Travel: 1471\n",
            "\n",
            "Active Life, Fitness & Instruction: 1442\n",
            "\n",
            "Event Planning & Services, Hotels, Hotels & Travel: 1431\n",
            "\n",
            "Home Services, Real Estate: 1424\n",
            "\n",
            "Food, Grocery: 1424\n",
            "\n",
            "Breakfast & Brunch, Restaurants: 1369\n",
            "\n",
            "Dentists, Health & Medical: 1195\n",
            "\n",
            "Food, Specialty Food: 1150\n",
            "\n",
            "Fashion, Shopping, Women's Clothing: 1138\n",
            "\n",
            "Bakeries, Food: 1115\n",
            "\n",
            "Professional Services: 1025\n",
            "\n",
            "Food, Ice Cream & Frozen Yogurt: 1018\n",
            "\n",
            "Cafes, Restaurants: 1002\n",
            "\n",
            "Financial Services: 875\n",
            "\n",
            "Bars, Nightlife, Pubs: 874\n",
            "\n",
            "Pet Services, Pets: 870\n",
            "\n",
            "Japanese, Restaurants: 848\n",
            "\n",
            "Dentists, General Dentistry, Health & Medical: 823\n",
            "\n",
            "Bars, Nightlife, Sports Bars: 818\n",
            "\n",
            "Restaurants, Sushi Bars: 798\n",
            "\n",
            "Burgers, Fast Food, Restaurants: 774\n",
            "\n"
          ]
        }
      ]
    },
    {
      "cell_type": "markdown",
      "source": [
        "# Cross Checking with Apriori Library in mlextend"
      ],
      "metadata": {
        "id": "H6ud1Bf7XPSh"
      }
    },
    {
      "cell_type": "code",
      "source": [
        "from mlxtend.frequent_patterns import apriori\n",
        "from mlxtend.frequent_patterns import association_rules\n",
        "import pandas as pd\n",
        "import warnings\n",
        "\n",
        "# Suppress DeprecationWarnings\n",
        "warnings.simplefilter(\"ignore\", DeprecationWarning)\n",
        "\n",
        "# Create a DataFrame with one-hot encoding\n",
        "oht = pd.DataFrame(pd.Series(data).str.join('|').str.get_dummies('|'))"
      ],
      "metadata": {
        "id": "BPPk8sYvXW-F"
      },
      "execution_count": null,
      "outputs": []
    },
    {
      "cell_type": "code",
      "source": [
        "# Suppress DeprecationWarnings\n",
        "warnings.simplefilter(\"ignore\", DeprecationWarning)\n",
        "\n",
        "# Frequent itemsets of length 1\n",
        "all_frequent_itemsets_lib = apriori(oht, min_support=min_support, use_colnames=True)\n",
        "# Filter frequent itemsets of length 1\n",
        "frequent_itemsets_1_lib = all_frequent_itemsets_lib[all_frequent_itemsets_lib['itemsets'].apply(lambda x: len(x) == 1)]\n",
        "\n",
        "print(\"Frequent Itemsets of Length 1:\")\n",
        "print(frequent_itemsets_1_lib,\"\\n\\n\\n\" ,len(frequent_itemsets_1_lib))"
      ],
      "metadata": {
        "colab": {
          "base_uri": "https://localhost:8080/"
        },
        "id": "NK-vNMS-5Ohf",
        "outputId": "23ccfd88-b7ab-4c82-a4c0-d9ee1bce2bf5"
      },
      "execution_count": null,
      "outputs": [
        {
          "output_type": "stream",
          "name": "stdout",
          "text": [
            "Frequent Itemsets of Length 1:\n",
            "     support                     itemsets\n",
            "0   0.040202                (Active Life)\n",
            "1   0.020639             (American (New))\n",
            "2   0.031301     (American (Traditional))\n",
            "3   0.029423       (Arts & Entertainment)\n",
            "4   0.022232                (Auto Repair)\n",
            "5   0.054518                 (Automotive)\n",
            "6   0.014446                   (Bakeries)\n",
            "7   0.056073                       (Bars)\n",
            "8   0.085289              (Beauty & Spas)\n",
            "9   0.017737         (Breakfast & Brunch)\n",
            "10  0.022984                    (Burgers)\n",
            "11  0.012982                      (Cafes)\n",
            "12  0.021105                    (Chinese)\n",
            "13  0.028490               (Coffee & Tea)\n",
            "14  0.015482                   (Dentists)\n",
            "15  0.021947                    (Doctors)\n",
            "16  0.038544  (Event Planning & Services)\n",
            "17  0.039878                    (Fashion)\n",
            "18  0.036937                  (Fast Food)\n",
            "19  0.011336         (Financial Services)\n",
            "20  0.018682      (Fitness & Instruction)\n",
            "21  0.119842                       (Food)\n",
            "22  0.010663          (General Dentistry)\n",
            "23  0.018449                    (Grocery)\n",
            "24  0.027091                (Hair Salons)\n",
            "25  0.066347           (Health & Medical)\n",
            "26  0.020548              (Home & Garden)\n",
            "27  0.061994              (Home Services)\n",
            "28  0.018540                     (Hotels)\n",
            "29  0.032325            (Hotels & Travel)\n",
            "30  0.013189  (Ice Cream & Frozen Yogurt)\n",
            "31  0.023942                    (Italian)\n",
            "32  0.010987                   (Japanese)\n",
            "33  0.044931             (Local Services)\n",
            "34  0.032584                    (Mexican)\n",
            "35  0.021597                (Nail Salons)\n",
            "36  0.065920                  (Nightlife)\n",
            "37  0.011272               (Pet Services)\n",
            "38  0.019395                       (Pets)\n",
            "39  0.034424                      (Pizza)\n",
            "40  0.013280      (Professional Services)\n",
            "41  0.011323                       (Pubs)\n",
            "42  0.018449                (Real Estate)\n",
            "43  0.324817                (Restaurants)\n",
            "44  0.030628                 (Sandwiches)\n",
            "45  0.145533                   (Shopping)\n",
            "46  0.014899             (Specialty Food)\n",
            "47  0.010598                (Sports Bars)\n",
            "48  0.010339                 (Sushi Bars)\n",
            "49  0.014744           (Women's Clothing) \n",
            "\n",
            "\n",
            " 50\n"
          ]
        }
      ]
    },
    {
      "cell_type": "code",
      "source": [
        "# Suppress DeprecationWarnings\n",
        "warnings.simplefilter(\"ignore\", DeprecationWarning)\n",
        "\n",
        "print(\"\\nAll Frequent Itemsets:\")\n",
        "print(all_frequent_itemsets_lib,\"\\n\\n\\n\" ,len(all_frequent_itemsets_lib))"
      ],
      "metadata": {
        "colab": {
          "base_uri": "https://localhost:8080/"
        },
        "id": "d1FngofU5Qlz",
        "outputId": "3d44a201-c89d-4232-b648-1d53a781e35c"
      },
      "execution_count": null,
      "outputs": [
        {
          "output_type": "stream",
          "name": "stdout",
          "text": [
            "\n",
            "All Frequent Itemsets:\n",
            "      support                                           itemsets\n",
            "0    0.040202                                      (Active Life)\n",
            "1    0.020639                                   (American (New))\n",
            "2    0.031301                           (American (Traditional))\n",
            "3    0.029423                             (Arts & Entertainment)\n",
            "4    0.022232                                      (Auto Repair)\n",
            "..        ...                                                ...\n",
            "96   0.010598                     (Nightlife, Sports Bars, Bars)\n",
            "97   0.010028                  (Restaurants, Burgers, Fast Food)\n",
            "98   0.010663    (Health & Medical, Dentists, General Dentistry)\n",
            "99   0.018540  (Hotels, Event Planning & Services, Hotels & T...\n",
            "100  0.014744              (Fashion, Shopping, Women's Clothing)\n",
            "\n",
            "[101 rows x 2 columns] \n",
            "\n",
            "\n",
            " 101\n"
          ]
        }
      ]
    },
    {
      "cell_type": "code",
      "source": [
        "# Suppress DeprecationWarnings\n",
        "warnings.simplefilter(\"ignore\", DeprecationWarning)\n",
        "\n",
        "# Closed frequent itemsets\n",
        "closed_itemsets_lib = association_rules(all_frequent_itemsets_lib, metric=\"support\", min_threshold=relative_min_support)\n",
        "closed_itemsets_lib = closed_itemsets_lib[closed_itemsets_lib['confidence'] == 1]  # Filter by lift = 1 for closed itemsets\n",
        "print(\"\\nClosed Frequent Itemsets:\")\n",
        "print(closed_itemsets_lib,\"\\n\\n\\n\" ,len(closed_itemsets_lib))"
      ],
      "metadata": {
        "colab": {
          "base_uri": "https://localhost:8080/"
        },
        "id": "fj7Rcc3m5SC3",
        "outputId": "e1151b16-19af-4845-a979-895ccb092b7c"
      },
      "execution_count": null,
      "outputs": [
        {
          "output_type": "stream",
          "name": "stdout",
          "text": [
            "\n",
            "Closed Frequent Itemsets:\n",
            "                               antecedents  \\\n",
            "1                  (Fitness & Instruction)   \n",
            "2                         (American (New))   \n",
            "5                 (American (Traditional))   \n",
            "7                            (Auto Repair)   \n",
            "9                               (Bakeries)   \n",
            "11                                  (Bars)   \n",
            "12                                  (Pubs)   \n",
            "16                           (Sports Bars)   \n",
            "19                           (Hair Salons)   \n",
            "20                           (Nail Salons)   \n",
            "23                    (Breakfast & Brunch)   \n",
            "27                               (Burgers)   \n",
            "29                                 (Cafes)   \n",
            "31                               (Chinese)   \n",
            "33                          (Coffee & Tea)   \n",
            "35                     (General Dentistry)   \n",
            "37                              (Dentists)   \n",
            "39                               (Doctors)   \n",
            "41                                (Hotels)   \n",
            "44                               (Fashion)   \n",
            "47                      (Women's Clothing)   \n",
            "49                             (Fast Food)   \n",
            "51                               (Grocery)   \n",
            "53             (Ice Cream & Frozen Yogurt)   \n",
            "57                        (Specialty Food)   \n",
            "59                     (General Dentistry)   \n",
            "61                         (Home & Garden)   \n",
            "63                           (Real Estate)   \n",
            "64                                (Hotels)   \n",
            "67                               (Italian)   \n",
            "69                              (Japanese)   \n",
            "71                               (Mexican)   \n",
            "73                                  (Pubs)   \n",
            "77                           (Sports Bars)   \n",
            "79                          (Pet Services)   \n",
            "81                                 (Pizza)   \n",
            "83                            (Sandwiches)   \n",
            "85                            (Sushi Bars)   \n",
            "87                      (Women's Clothing)   \n",
            "88                       (Nightlife, Pubs)   \n",
            "90                            (Pubs, Bars)   \n",
            "92                                  (Pubs)   \n",
            "95                     (Restaurants, Bars)   \n",
            "100               (Nightlife, Sports Bars)   \n",
            "102                    (Sports Bars, Bars)   \n",
            "104                          (Sports Bars)   \n",
            "108                   (Burgers, Fast Food)   \n",
            "113  (Health & Medical, General Dentistry)   \n",
            "114          (Dentists, General Dentistry)   \n",
            "117                    (General Dentistry)   \n",
            "118    (Event Planning & Services, Hotels)   \n",
            "119              (Hotels & Travel, Hotels)   \n",
            "121                               (Hotels)   \n",
            "125            (Fashion, Women's Clothing)   \n",
            "126           (Shopping, Women's Clothing)   \n",
            "129                     (Women's Clothing)   \n",
            "\n",
            "                                      consequents  antecedent support  \\\n",
            "1                                   (Active Life)            0.018682   \n",
            "2                                   (Restaurants)            0.020639   \n",
            "5                                   (Restaurants)            0.031301   \n",
            "7                                    (Automotive)            0.022232   \n",
            "9                                          (Food)            0.014446   \n",
            "11                                    (Nightlife)            0.056073   \n",
            "12                                         (Bars)            0.011323   \n",
            "16                                         (Bars)            0.010598   \n",
            "19                                (Beauty & Spas)            0.027091   \n",
            "20                                (Beauty & Spas)            0.021597   \n",
            "23                                  (Restaurants)            0.017737   \n",
            "27                                  (Restaurants)            0.022984   \n",
            "29                                  (Restaurants)            0.012982   \n",
            "31                                  (Restaurants)            0.021105   \n",
            "33                                         (Food)            0.028490   \n",
            "35                                     (Dentists)            0.010663   \n",
            "37                             (Health & Medical)            0.015482   \n",
            "39                             (Health & Medical)            0.021947   \n",
            "41                    (Event Planning & Services)            0.018540   \n",
            "44                                     (Shopping)            0.039878   \n",
            "47                                      (Fashion)            0.014744   \n",
            "49                                  (Restaurants)            0.036937   \n",
            "51                                         (Food)            0.018449   \n",
            "53                                         (Food)            0.013189   \n",
            "57                                         (Food)            0.014899   \n",
            "59                             (Health & Medical)            0.010663   \n",
            "61                                     (Shopping)            0.020548   \n",
            "63                                (Home Services)            0.018449   \n",
            "64                              (Hotels & Travel)            0.018540   \n",
            "67                                  (Restaurants)            0.023942   \n",
            "69                                  (Restaurants)            0.010987   \n",
            "71                                  (Restaurants)            0.032584   \n",
            "73                                    (Nightlife)            0.011323   \n",
            "77                                    (Nightlife)            0.010598   \n",
            "79                                         (Pets)            0.011272   \n",
            "81                                  (Restaurants)            0.034424   \n",
            "83                                  (Restaurants)            0.030628   \n",
            "85                                  (Restaurants)            0.010339   \n",
            "87                                     (Shopping)            0.014744   \n",
            "88                                         (Bars)            0.011323   \n",
            "90                                    (Nightlife)            0.011323   \n",
            "92                              (Nightlife, Bars)            0.011323   \n",
            "95                                    (Nightlife)            0.031392   \n",
            "100                                        (Bars)            0.010598   \n",
            "102                                   (Nightlife)            0.010598   \n",
            "104                             (Nightlife, Bars)            0.010598   \n",
            "108                                 (Restaurants)            0.010028   \n",
            "113                                    (Dentists)            0.010663   \n",
            "114                            (Health & Medical)            0.010663   \n",
            "117                  (Dentists, Health & Medical)            0.010663   \n",
            "118                             (Hotels & Travel)            0.018540   \n",
            "119                   (Event Planning & Services)            0.018540   \n",
            "121  (Event Planning & Services, Hotels & Travel)            0.018540   \n",
            "125                                    (Shopping)            0.014744   \n",
            "126                                     (Fashion)            0.014744   \n",
            "129                           (Fashion, Shopping)            0.014744   \n",
            "\n",
            "     consequent support   support  confidence       lift  leverage  \\\n",
            "1              0.040202  0.018682         1.0  24.874315  0.017931   \n",
            "2              0.324817  0.020639         1.0   3.078657  0.013935   \n",
            "5              0.324817  0.031301         1.0   3.078657  0.021134   \n",
            "7              0.054518  0.022232         1.0  18.342443  0.021020   \n",
            "9              0.119842  0.014446         1.0   8.344324  0.012715   \n",
            "11             0.065920  0.056073         1.0  15.170008  0.052377   \n",
            "12             0.056073  0.011323         1.0  17.833872  0.010689   \n",
            "16             0.056073  0.010598         1.0  17.833872  0.010004   \n",
            "19             0.085289  0.027091         1.0  11.724897  0.024780   \n",
            "20             0.085289  0.021597         1.0  11.724897  0.019755   \n",
            "23             0.324817  0.017737         1.0   3.078657  0.011975   \n",
            "27             0.324817  0.022984         1.0   3.078657  0.015518   \n",
            "29             0.324817  0.012982         1.0   3.078657  0.008765   \n",
            "31             0.324817  0.021105         1.0   3.078657  0.014250   \n",
            "33             0.119842  0.028490         1.0   8.344324  0.025076   \n",
            "35             0.015482  0.010663         1.0  64.589958  0.010498   \n",
            "37             0.066347  0.015482         1.0  15.072252  0.014455   \n",
            "39             0.066347  0.021947         1.0  15.072252  0.020491   \n",
            "41             0.038544  0.018540         1.0  25.944538  0.017825   \n",
            "44             0.145533  0.039878         1.0   6.871272  0.034075   \n",
            "47             0.039878  0.014744         1.0  25.076348  0.014156   \n",
            "49             0.324817  0.036937         1.0   3.078657  0.024939   \n",
            "51             0.119842  0.018449         1.0   8.344324  0.016238   \n",
            "53             0.119842  0.013189         1.0   8.344324  0.011608   \n",
            "57             0.119842  0.014899         1.0   8.344324  0.013114   \n",
            "59             0.066347  0.010663         1.0  15.072252  0.009955   \n",
            "61             0.145533  0.020548         1.0   6.871272  0.017558   \n",
            "63             0.061994  0.018449         1.0  16.130617  0.017305   \n",
            "64             0.032325  0.018540         1.0  30.935872  0.017941   \n",
            "67             0.324817  0.023942         1.0   3.078657  0.016166   \n",
            "69             0.324817  0.010987         1.0   3.078657  0.007418   \n",
            "71             0.324817  0.032584         1.0   3.078657  0.022000   \n",
            "73             0.065920  0.011323         1.0  15.170008  0.010577   \n",
            "77             0.065920  0.010598         1.0  15.170008  0.009899   \n",
            "79             0.019395  0.011272         1.0  51.559786  0.011053   \n",
            "81             0.324817  0.034424         1.0   3.078657  0.023242   \n",
            "83             0.324817  0.030628         1.0   3.078657  0.020679   \n",
            "85             0.324817  0.010339         1.0   3.078657  0.006981   \n",
            "87             0.145533  0.014744         1.0   6.871272  0.012598   \n",
            "88             0.056073  0.011323         1.0  17.833872  0.010689   \n",
            "90             0.065920  0.011323         1.0  15.170008  0.010577   \n",
            "92             0.056073  0.011323         1.0  17.833872  0.010689   \n",
            "95             0.065920  0.031392         1.0  15.170008  0.029323   \n",
            "100            0.056073  0.010598         1.0  17.833872  0.010004   \n",
            "102            0.065920  0.010598         1.0  15.170008  0.009899   \n",
            "104            0.056073  0.010598         1.0  17.833872  0.010004   \n",
            "108            0.324817  0.010028         1.0   3.078657  0.006771   \n",
            "113            0.015482  0.010663         1.0  64.589958  0.010498   \n",
            "114            0.066347  0.010663         1.0  15.072252  0.009955   \n",
            "117            0.015482  0.010663         1.0  64.589958  0.010498   \n",
            "118            0.032325  0.018540         1.0  30.935872  0.017941   \n",
            "119            0.038544  0.018540         1.0  25.944538  0.017825   \n",
            "121            0.019058  0.018540         1.0  52.471108  0.018187   \n",
            "125            0.145533  0.014744         1.0   6.871272  0.012598   \n",
            "126            0.039878  0.014744         1.0  25.076348  0.014156   \n",
            "129            0.039878  0.014744         1.0  25.076348  0.014156   \n",
            "\n",
            "     conviction  zhangs_metric  \n",
            "1           inf       0.978071  \n",
            "2           inf       0.689412  \n",
            "5           inf       0.697000  \n",
            "7           inf       0.966980  \n",
            "9           inf       0.893059  \n",
            "11          inf       0.989569  \n",
            "12          inf       0.954738  \n",
            "16          inf       0.954038  \n",
            "19          inf       0.940182  \n",
            "20          inf       0.934903  \n",
            "23          inf       0.687375  \n",
            "27          inf       0.691066  \n",
            "29          inf       0.684063  \n",
            "31          inf       0.689740  \n",
            "33          inf       0.905969  \n",
            "35          inf       0.995128  \n",
            "37          inf       0.948335  \n",
            "39          inf       0.954604  \n",
            "41          inf       0.979618  \n",
            "44          inf       0.889956  \n",
            "47          inf       0.974489  \n",
            "49          inf       0.701079  \n",
            "51          inf       0.896701  \n",
            "53          inf       0.891922  \n",
            "57          inf       0.893470  \n",
            "59          inf       0.943715  \n",
            "61          inf       0.872392  \n",
            "63          inf       0.955637  \n",
            "64          inf       0.985955  \n",
            "67          inf       0.691745  \n",
            "69          inf       0.682683  \n",
            "71          inf       0.697924  \n",
            "73          inf       0.944779  \n",
            "77          inf       0.944086  \n",
            "79          inf       0.991784  \n",
            "81          inf       0.699254  \n",
            "83          inf       0.696516  \n",
            "85          inf       0.682237  \n",
            "87          inf       0.867253  \n",
            "88          inf       0.954738  \n",
            "90          inf       0.944779  \n",
            "92          inf       0.954738  \n",
            "95          inf       0.964354  \n",
            "100         inf       0.954038  \n",
            "102         inf       0.944086  \n",
            "104         inf       0.954038  \n",
            "108         inf       0.682022  \n",
            "113         inf       0.995128  \n",
            "114         inf       0.943715  \n",
            "117         inf       0.995128  \n",
            "118         inf       0.985955  \n",
            "119         inf       0.979618  \n",
            "121         inf       0.999472  \n",
            "125         inf       0.867253  \n",
            "126         inf       0.974489  \n",
            "129         inf       0.974489   \n",
            "\n",
            "\n",
            " 56\n"
          ]
        }
      ]
    },
    {
      "cell_type": "markdown",
      "source": [
        "# Final Comparision"
      ],
      "metadata": {
        "id": "mT9MjnQvAo2R"
      }
    },
    {
      "cell_type": "code",
      "source": [
        "# Suppress DeprecationWarnings\n",
        "warnings.simplefilter(\"ignore\", DeprecationWarning)\n",
        "\n",
        "print(f\"Considering - \\t\\t\\tmin_support :\\t{min_support}\\t\\t min_threshold :\\t{min_threshold} \\n\")\n",
        "\n",
        "print(\"Freq_itemsets_1\\t\\t\" ,len(sorted_data),\"\\tAll_itemsets\\t\\t\",len(all_frequent_itemsets),\"\\tClosed Freq Itemsets\\t\\t\", len(closed_frequent_itemsets))\n",
        "print(\"Freq_itemsets_1_lib\\t\" ,len(frequent_itemsets_1_lib),\"\\tAll_itemsets_lib\\t\",len(all_frequent_itemsets_lib),\"\\tClosed Freq Itemsets_lib\\t\", len(closed_itemsets_lib))"
      ],
      "metadata": {
        "colab": {
          "base_uri": "https://localhost:8080/"
        },
        "id": "22uFMsYv-S-5",
        "outputId": "a7454280-e6b3-4f11-b5bc-dc95f9c24786"
      },
      "execution_count": null,
      "outputs": [
        {
          "output_type": "stream",
          "name": "stdout",
          "text": [
            "Considering - \t\t\tmin_support :\t0.01\t\t min_threshold :\t771.85 \n",
            "\n",
            "Freq_itemsets_1\t\t 50 \tAll_itemsets\t\t 101 \tClosed Freq Itemsets\t\t 55\n",
            "Freq_itemsets_1_lib\t 50 \tAll_itemsets_lib\t 101 \tClosed Freq Itemsets_lib\t 56\n"
          ]
        }
      ]
    },
    {
      "cell_type": "markdown",
      "source": [
        "The slight change in closed frequent itemsets is due to the decimal error while calculating min_threshold.\n",
        "Also if threshold is set at 771 instead of 771.85 [772] then also slight errors in results are seen."
      ],
      "metadata": {
        "id": "T6Dp_yj__hUf"
      }
    },
    {
      "cell_type": "markdown",
      "source": [
        "A slight difference is observed in either All itemsets or Closed Freq Itemsets while comparing the two approaches is due to the following factors:-\n",
        "\n",
        "*   When min_threshold is set at 771.85 i.e. 772, the closed freq itemsets count is 55 instead of 56 due to error in calculation of confidence (after 8 decimal places)\n",
        "*   When min_threshold is set to 771, the all itemsets detects 2 more than required as there are exactly 2 itemsets which have threshold of 771 but fails in case od approximated support/confidence (8 digit decimal errors)\n",
        "\n",
        "These errors can either be resolved by using datatypes of higher bits say long or double but at the cost of memory and computaion power/efficiency/speed.\n",
        "\n"
      ],
      "metadata": {
        "id": "rSpepzKIAV-j"
      }
    },
    {
      "cell_type": "markdown",
      "source": [
        "\n",
        "\n",
        "> The execution of main code takes around 15 seconds, while as library takes around 30 seconds.\n",
        "\n"
      ],
      "metadata": {
        "id": "ZyywNXeMwVbT"
      }
    },
    {
      "cell_type": "markdown",
      "source": [
        "# References\n"
      ],
      "metadata": {
        "id": "sYGZ1SWpsdim"
      }
    },
    {
      "cell_type": "markdown",
      "source": [
        "\n",
        "\n",
        "1.   Various webpages including GitHub, Kaggle, StackOverFlow, among others related to coding of Apriori Algorithm. Some of which are:-\n",
        "\n",
        "*   [Apriori](https://www.kaggle.com/code/nandinibagga/apriori-algorithm)\n",
        "*   [Market Basket Analysis](https://www.kaggle.com/code/ozlemilgun/market-basket-analysis-with-apriori-algorithm)\n",
        "*   [Groceries Association Rule](https://www.kaggle.com/code/cerolacia/groceries-asscociation-rule-apriori-algorithm)\n",
        "*   From [Medium](https://medium.com/linkit-intecs/apriori-algorithm-in-data-mining-part-2-590d58e0998b)\n",
        "*   From [GfG- Geeks for Geeks](https://www.geeksforgeeks.org/implementing-apriori-algorithm-in-python/)\n",
        "*   From [Intellipaat](https://intellipaat.com/blog/data-science-apriori-algorithm/)\n",
        "*   From [Javapoint](https://www.javatpoint.com/implementing-apriori-algorithm-in-python)\n",
        "*   From [towardsdatascience](https://towardsdatascience.com/apriori-association-rule-mining-explanation-and-python-implementation-290b42afdfc6)\n",
        "*   From [section.io](https://www.section.io/engineering-education/apriori-algorithm-in-python/)\n",
        "*   From [GitHub](https://github.com/topics/apriori-algorithm-python)\n",
        "\n",
        "2.   AI tools like ChatGPT, Google Bard, Bing Chat, etc only used for the sake of commenting ONLY. Entire code has been written by\n",
        "**Mr. Kshitij Kanade, 107121045, EEE Dept., NIT Trichy.**\n",
        "\n",
        "3.  Class notes as well as personal guidance by Prof. C. Oswald, CSE Dept., NIT Trichy.\n",
        "\n",
        "4.  Reference Books Like Massive Data Sets, etc provided under CSOE18 Big Data Analytics Open Elective Course at NIT Trichy."
      ],
      "metadata": {
        "id": "4F3K8pun1Aul"
      }
    }
  ]
}